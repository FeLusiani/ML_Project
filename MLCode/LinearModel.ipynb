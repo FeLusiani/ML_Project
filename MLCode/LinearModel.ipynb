{
 "metadata": {
  "language_info": {
   "codemirror_mode": {
    "name": "ipython",
    "version": 3
   },
   "file_extension": ".py",
   "mimetype": "text/x-python",
   "name": "python",
   "nbconvert_exporter": "python",
   "pygments_lexer": "ipython3",
   "version": "3.6.9-final"
  },
  "orig_nbformat": 2,
  "kernelspec": {
   "name": "python3",
   "display_name": "Python 3",
   "language": "python"
  }
 },
 "nbformat": 4,
 "nbformat_minor": 2,
 "cells": [
  {
   "cell_type": "code",
   "execution_count": 1,
   "metadata": {},
   "outputs": [],
   "source": [
    "import numpy as np\n",
    "import pandas as pd\n",
    "import seaborn as sns\n",
    "from sklearn import linear_model\n",
    "from MLCode.KCrossVal import kFoldCross\n",
    "from MLCode.utils import load_shuffled_cup, np_cup_TR, plot_NN_TR_VAL"
   ]
  },
  {
   "cell_type": "code",
   "execution_count": 2,
   "metadata": {},
   "outputs": [],
   "source": [
    "df = load_shuffled_cup()\n",
    "X_dev, Y_dev = np_cup_TR(df, test=False)\n",
    "\n",
    "alpha = np.linspace(0.01, 10, 100)\n",
    "results = []\n",
    "for a in alpha:\n",
    "    reg = linear_model.Ridge(alpha=a)\n",
    "    res = kFoldCross(reg.fit, reg.predict, X_dev, Y_dev, 5, out_scaler=True)\n",
    "    res = res[0], res[1], a\n",
    "    results.append(res)\n",
    "\n",
    "df = pd.DataFrame(results, columns=['MEE_mean', 'MEE_std', 'alpha'])"
   ]
  },
  {
   "cell_type": "code",
   "execution_count": 3,
   "metadata": {},
   "outputs": [
    {
     "output_type": "execute_result",
     "data": {
      "text/plain": [
       "    MEE_mean   MEE_std     alpha\n",
       "68  5.239056  0.088406  6.871818\n",
       "67  5.239056  0.088403  6.770909\n",
       "69  5.239056  0.088408  6.972727\n",
       "66  5.239056  0.088401  6.670000\n",
       "70  5.239057  0.088411  7.073636\n",
       "..       ...       ...       ...\n",
       "4   5.239386  0.088236  0.413636\n",
       "3   5.239397  0.088233  0.312727\n",
       "2   5.239408  0.088230  0.211818\n",
       "1   5.239419  0.088228  0.110909\n",
       "0   5.239430  0.088225  0.010000\n",
       "\n",
       "[100 rows x 3 columns]"
      ],
      "text/html": "<div>\n<style scoped>\n    .dataframe tbody tr th:only-of-type {\n        vertical-align: middle;\n    }\n\n    .dataframe tbody tr th {\n        vertical-align: top;\n    }\n\n    .dataframe thead th {\n        text-align: right;\n    }\n</style>\n<table border=\"1\" class=\"dataframe\">\n  <thead>\n    <tr style=\"text-align: right;\">\n      <th></th>\n      <th>MEE_mean</th>\n      <th>MEE_std</th>\n      <th>alpha</th>\n    </tr>\n  </thead>\n  <tbody>\n    <tr>\n      <th>68</th>\n      <td>5.239056</td>\n      <td>0.088406</td>\n      <td>6.871818</td>\n    </tr>\n    <tr>\n      <th>67</th>\n      <td>5.239056</td>\n      <td>0.088403</td>\n      <td>6.770909</td>\n    </tr>\n    <tr>\n      <th>69</th>\n      <td>5.239056</td>\n      <td>0.088408</td>\n      <td>6.972727</td>\n    </tr>\n    <tr>\n      <th>66</th>\n      <td>5.239056</td>\n      <td>0.088401</td>\n      <td>6.670000</td>\n    </tr>\n    <tr>\n      <th>70</th>\n      <td>5.239057</td>\n      <td>0.088411</td>\n      <td>7.073636</td>\n    </tr>\n    <tr>\n      <th>...</th>\n      <td>...</td>\n      <td>...</td>\n      <td>...</td>\n    </tr>\n    <tr>\n      <th>4</th>\n      <td>5.239386</td>\n      <td>0.088236</td>\n      <td>0.413636</td>\n    </tr>\n    <tr>\n      <th>3</th>\n      <td>5.239397</td>\n      <td>0.088233</td>\n      <td>0.312727</td>\n    </tr>\n    <tr>\n      <th>2</th>\n      <td>5.239408</td>\n      <td>0.088230</td>\n      <td>0.211818</td>\n    </tr>\n    <tr>\n      <th>1</th>\n      <td>5.239419</td>\n      <td>0.088228</td>\n      <td>0.110909</td>\n    </tr>\n    <tr>\n      <th>0</th>\n      <td>5.239430</td>\n      <td>0.088225</td>\n      <td>0.010000</td>\n    </tr>\n  </tbody>\n</table>\n<p>100 rows × 3 columns</p>\n</div>"
     },
     "metadata": {},
     "execution_count": 3
    }
   ],
   "source": [
    "df.sort_values(by=['MEE_mean'])"
   ]
  }
 ]
}