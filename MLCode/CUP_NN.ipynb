{
 "metadata": {
  "language_info": {
   "codemirror_mode": {
    "name": "ipython",
    "version": 3
   },
   "file_extension": ".py",
   "mimetype": "text/x-python",
   "name": "python",
   "nbconvert_exporter": "python",
   "pygments_lexer": "ipython3",
   "version": "3.8.5-final"
  },
  "orig_nbformat": 2,
  "kernelspec": {
   "name": "python38564bitenvebf356ef5c6e4636ae253ce9e48c7e00",
   "display_name": "Python 3.8.5 64-bit ('env')",
   "language": "python"
  }
 },
 "nbformat": 4,
 "nbformat_minor": 2,
 "cells": [
  {
   "cell_type": "code",
   "execution_count": null,
   "metadata": {},
   "outputs": [],
   "source": [
    "import numpy as np\n",
    "from MLCode.utils import load_cup_data, np_cup, plot_NN_TR_VAL\n",
    "from MLCode.NN import NN_HyperParameters\n",
    "from MLCode.NN_cup import NN_Regressor, train_NN_cup\n",
    "import matplotlib.pyplot as plt\n",
    "\n",
    "X, Y = np_cup(load_cup_data())\n",
    "\n",
    "stats = train_NN_cup(net, X_train, Y_train, X_test, Y_test, 200)\n",
    "tr_error, val_error, loss = stats\n",
    "\n",
    "plot_NN_TR_VAL(tr_error, val_error, 'MEE')\n",
    "plt.show()\n",
    "\n",
    "print('Test accuracy achieved:', max(val_accuracy))\n",
    "return max(val_accuracy)"
   ]
  }
 ]
}