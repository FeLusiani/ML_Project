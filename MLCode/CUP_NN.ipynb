{
 "metadata": {
  "language_info": {
   "codemirror_mode": {
    "name": "ipython",
    "version": 3
   },
   "file_extension": ".py",
   "mimetype": "text/x-python",
   "name": "python",
   "nbconvert_exporter": "python",
   "pygments_lexer": "ipython3",
   "version": "3.6.9-final"
  },
  "orig_nbformat": 2,
  "kernelspec": {
   "name": "python3",
   "display_name": "Python 3",
   "language": "python"
  }
 },
 "nbformat": 4,
 "nbformat_minor": 2,
 "cells": [
  {
   "cell_type": "code",
   "execution_count": 2,
   "metadata": {},
   "outputs": [],
   "source": [
    "import numpy as np\n",
    "from torch import Tensor\n",
    "from MLCode.utils import load_shuffled_cup, np_cup_TR, plot_NN_TR_VAL\n",
    "from sklearn.preprocessing import StandardScaler\n",
    "from MLCode.NN import NN_HyperParameters\n",
    "from MLCode.NN_cup import NN_Regressor, train_NN_cup, save_training, train_NN_K_validation, saved_NN_models\n",
    "import matplotlib.pyplot as plt"
   ]
  },
  {
   "cell_type": "code",
   "execution_count": 3,
   "metadata": {},
   "outputs": [],
   "source": [
    "df = load_shuffled_cup()\n",
    "X_dev, Y_dev = np_cup_TR(df, test=False)\n",
    "\n",
    "Y_scaler = StandardScaler()\n",
    "Y_scaler.fit(Y_dev)\n",
    "\n",
    "X_dev, Y_dev = Tensor(X_dev), Tensor(Y_dev)\n",
    "\n",
    "# 20% validation\n",
    "val_samples = X_dev.shape[0] // 5\n",
    "X_train = X_dev[:-val_samples]\n",
    "Y_train = Y_dev[:-val_samples]\n",
    "\n",
    "X_val = X_dev[-val_samples:]\n",
    "Y_val = Y_dev[-val_samples:]"
   ]
  },
  {
   "cell_type": "code",
   "execution_count": 27,
   "metadata": {
    "tags": []
   },
   "outputs": [
    {
     "output_type": "stream",
     "name": "stdout",
     "text": [
      "layers = [ 10, 25, 25, 25, 25,]\nlr = 0.015\nbeta1 = 0.9\nbeta2 = 0.999\nweight_decay = 0\nmb_size = 32\n\nMEE mean: 2.9626412057857605\nMEE std: 0.12260487972844275\nTime (seconds): 17.072355235000032\nConvergence: True\n"
     ]
    }
   ],
   "source": [
    "NN_HP = NN_HyperParameters(\n",
    "    [10, 25, 25, 25, 25],\n",
    "    lr=1E-2,\n",
    "    beta1=0.9,\n",
    "    beta2=0.999,\n",
    "    weight_decay=0,\n",
    "    mb_size=32,\n",
    ")\n",
    "net = NN_Regressor(2,NN_HP, Y_scaler)\n",
    "\n",
    "\n",
    "# stats = train_NN_cup(net, X_train, Y_train, X_val, Y_val, 20,500)\n",
    "stats = train_NN_K_validation(net, 5, X_dev, Y_dev)\n",
    "save_training(stats, NN_HP)"
   ]
  },
  {
   "cell_type": "code",
   "execution_count": 34,
   "metadata": {},
   "outputs": [
    {
     "output_type": "execute_result",
     "data": {
      "text/plain": [
       "      model_name  MEE_mean   MEE_std\n",
       "14  6x10_1.0E-02  2.932165  0.204040\n",
       "2   5x15_1.0E-02  2.937914  0.151128\n",
       "10  6x25_1.0E-02  2.957049  0.135452\n",
       "51  4x15_1.0E-02  2.958287  0.146356\n",
       "44  5x25_1.0E-02  2.982229  0.164257\n",
       "12  5x15_1.0E-03  2.983944  0.200041\n",
       "45  5x25_1.0E-03  2.984846  0.150048\n",
       "71  6x50_1.0E-03  2.985802  0.128104\n",
       "53  6x25_1.0E-03  2.986966  0.132031\n",
       "63  5x15_2.0E-02  2.989739  0.160229"
      ],
      "text/html": "<div>\n<style scoped>\n    .dataframe tbody tr th:only-of-type {\n        vertical-align: middle;\n    }\n\n    .dataframe tbody tr th {\n        vertical-align: top;\n    }\n\n    .dataframe thead th {\n        text-align: right;\n    }\n</style>\n<table border=\"1\" class=\"dataframe\">\n  <thead>\n    <tr style=\"text-align: right;\">\n      <th></th>\n      <th>model_name</th>\n      <th>MEE_mean</th>\n      <th>MEE_std</th>\n    </tr>\n  </thead>\n  <tbody>\n    <tr>\n      <th>14</th>\n      <td>6x10_1.0E-02</td>\n      <td>2.932165</td>\n      <td>0.204040</td>\n    </tr>\n    <tr>\n      <th>2</th>\n      <td>5x15_1.0E-02</td>\n      <td>2.937914</td>\n      <td>0.151128</td>\n    </tr>\n    <tr>\n      <th>10</th>\n      <td>6x25_1.0E-02</td>\n      <td>2.957049</td>\n      <td>0.135452</td>\n    </tr>\n    <tr>\n      <th>51</th>\n      <td>4x15_1.0E-02</td>\n      <td>2.958287</td>\n      <td>0.146356</td>\n    </tr>\n    <tr>\n      <th>44</th>\n      <td>5x25_1.0E-02</td>\n      <td>2.982229</td>\n      <td>0.164257</td>\n    </tr>\n    <tr>\n      <th>12</th>\n      <td>5x15_1.0E-03</td>\n      <td>2.983944</td>\n      <td>0.200041</td>\n    </tr>\n    <tr>\n      <th>45</th>\n      <td>5x25_1.0E-03</td>\n      <td>2.984846</td>\n      <td>0.150048</td>\n    </tr>\n    <tr>\n      <th>71</th>\n      <td>6x50_1.0E-03</td>\n      <td>2.985802</td>\n      <td>0.128104</td>\n    </tr>\n    <tr>\n      <th>53</th>\n      <td>6x25_1.0E-03</td>\n      <td>2.986966</td>\n      <td>0.132031</td>\n    </tr>\n    <tr>\n      <th>63</th>\n      <td>5x15_2.0E-02</td>\n      <td>2.989739</td>\n      <td>0.160229</td>\n    </tr>\n  </tbody>\n</table>\n</div>"
     },
     "metadata": {},
     "execution_count": 34
    }
   ],
   "source": [
    "df = saved_NN_models()\n",
    "df = df.sort_values(by=['MEE_mean'])\n",
    "# select on number of layers:\n",
    "# df = df[df['model_name'].str.startswith('3')]\n",
    "df.head(10)\n"
   ]
  },
  {
   "cell_type": "code",
   "execution_count": 35,
   "metadata": {},
   "outputs": [
    {
     "output_type": "execute_result",
     "data": {
      "text/plain": [
       "              2             3             4              0              1\n",
       "3  2x25_2.0E-02  2x50_2.0E-02  2x80_2.0E-02  2x100_2.0E-02  2x150_2.0E-02\n",
       "0  2x25_1.0E-02  2x50_1.0E-02  2x80_1.0E-02  2x100_1.0E-02  2x150_1.0E-02\n",
       "1  2x25_1.0E-03  2x50_1.0E-03  2x80_1.0E-03  2x100_1.0E-03  2x150_1.0E-03\n",
       "2  2x25_1.0E-04  2x50_1.0E-04  2x80_1.0E-04  2x100_1.0E-04  2x150_1.0E-04"
      ],
      "text/html": "<div>\n<style scoped>\n    .dataframe tbody tr th:only-of-type {\n        vertical-align: middle;\n    }\n\n    .dataframe tbody tr th {\n        vertical-align: top;\n    }\n\n    .dataframe thead th {\n        text-align: right;\n    }\n</style>\n<table border=\"1\" class=\"dataframe\">\n  <thead>\n    <tr style=\"text-align: right;\">\n      <th></th>\n      <th>2</th>\n      <th>3</th>\n      <th>4</th>\n      <th>0</th>\n      <th>1</th>\n    </tr>\n  </thead>\n  <tbody>\n    <tr>\n      <th>3</th>\n      <td>2x25_2.0E-02</td>\n      <td>2x50_2.0E-02</td>\n      <td>2x80_2.0E-02</td>\n      <td>2x100_2.0E-02</td>\n      <td>2x150_2.0E-02</td>\n    </tr>\n    <tr>\n      <th>0</th>\n      <td>2x25_1.0E-02</td>\n      <td>2x50_1.0E-02</td>\n      <td>2x80_1.0E-02</td>\n      <td>2x100_1.0E-02</td>\n      <td>2x150_1.0E-02</td>\n    </tr>\n    <tr>\n      <th>1</th>\n      <td>2x25_1.0E-03</td>\n      <td>2x50_1.0E-03</td>\n      <td>2x80_1.0E-03</td>\n      <td>2x100_1.0E-03</td>\n      <td>2x150_1.0E-03</td>\n    </tr>\n    <tr>\n      <th>2</th>\n      <td>2x25_1.0E-04</td>\n      <td>2x50_1.0E-04</td>\n      <td>2x80_1.0E-04</td>\n      <td>2x100_1.0E-04</td>\n      <td>2x150_1.0E-04</td>\n    </tr>\n  </tbody>\n</table>\n</div>"
     },
     "metadata": {},
     "execution_count": 35
    }
   ],
   "source": [
    "import pandas as pd\n",
    "import seaborn as sns\n",
    "\n",
    "df = saved_NN_models()\n",
    "df = df.sort_values(by=['model_name'])\n",
    "# select on number of layers:\n",
    "df = df[df['model_name'].str.startswith('2')]\n",
    "\n",
    "array = df['model_name'].to_numpy()\n",
    "array = array.reshape(-1,4).transpose()\n",
    "df2 = pd.DataFrame(array)\n",
    "df2 = df2.reindex([3,0,1,2])\n",
    "first_row = df2.iloc[0]\n",
    "first_row = first_row.str.extract(pat = 'x(\\d+)')[0]\n",
    "n_hidden = first_row.astype('int')\n",
    "col_order = n_hidden.to_numpy().argsort()\n",
    "df2 = df2[col_order]\n",
    "df2"
   ]
  },
  {
   "cell_type": "code",
   "execution_count": 36,
   "metadata": {},
   "outputs": [
    {
     "output_type": "execute_result",
     "data": {
      "text/plain": [
       "          2         3         4         0         1\n",
       "3  3.015680  3.072003  3.055449  3.070301  3.065065\n",
       "0  3.048910  3.012351  3.012317  3.017681  3.057486\n",
       "1  3.179805  3.139962  3.117993  3.151567  3.112522\n",
       "2  3.426612  3.407172  3.264274  3.249706  3.192345"
      ],
      "text/html": "<div>\n<style scoped>\n    .dataframe tbody tr th:only-of-type {\n        vertical-align: middle;\n    }\n\n    .dataframe tbody tr th {\n        vertical-align: top;\n    }\n\n    .dataframe thead th {\n        text-align: right;\n    }\n</style>\n<table border=\"1\" class=\"dataframe\">\n  <thead>\n    <tr style=\"text-align: right;\">\n      <th></th>\n      <th>2</th>\n      <th>3</th>\n      <th>4</th>\n      <th>0</th>\n      <th>1</th>\n    </tr>\n  </thead>\n  <tbody>\n    <tr>\n      <th>3</th>\n      <td>3.015680</td>\n      <td>3.072003</td>\n      <td>3.055449</td>\n      <td>3.070301</td>\n      <td>3.065065</td>\n    </tr>\n    <tr>\n      <th>0</th>\n      <td>3.048910</td>\n      <td>3.012351</td>\n      <td>3.012317</td>\n      <td>3.017681</td>\n      <td>3.057486</td>\n    </tr>\n    <tr>\n      <th>1</th>\n      <td>3.179805</td>\n      <td>3.139962</td>\n      <td>3.117993</td>\n      <td>3.151567</td>\n      <td>3.112522</td>\n    </tr>\n    <tr>\n      <th>2</th>\n      <td>3.426612</td>\n      <td>3.407172</td>\n      <td>3.264274</td>\n      <td>3.249706</td>\n      <td>3.192345</td>\n    </tr>\n  </tbody>\n</table>\n</div>"
     },
     "metadata": {},
     "execution_count": 36
    }
   ],
   "source": [
    "array = df['MEE_mean'].to_numpy()\n",
    "array = array.reshape(-1,4).transpose()\n",
    "df2 = pd.DataFrame(array)\n",
    "df2 = df2.reindex([3,0,1,2])\n",
    "df2 = df2[col_order]\n",
    "df2"
   ]
  },
  {
   "cell_type": "code",
   "execution_count": 38,
   "metadata": {},
   "outputs": [
    {
     "output_type": "execute_result",
     "data": {
      "text/plain": [
       "' '"
      ]
     },
     "metadata": {},
     "execution_count": 38
    },
    {
     "output_type": "display_data",
     "data": {
      "text/plain": "<Figure size 432x288 with 2 Axes>",
      "image/svg+xml": "<?xml version=\"1.0\" encoding=\"utf-8\" standalone=\"no\"?>\n<!DOCTYPE svg PUBLIC \"-//W3C//DTD SVG 1.1//EN\"\n  \"http://www.w3.org/Graphics/SVG/1.1/DTD/svg11.dtd\">\n<!-- Created with matplotlib (https://matplotlib.org/) -->\n<svg height=\"248.518125pt\" version=\"1.1\" viewBox=\"0 0 384.672313 248.518125\" width=\"384.672313pt\" xmlns=\"http://www.w3.org/2000/svg\" xmlns:xlink=\"http://www.w3.org/1999/xlink\">\n <metadata>\n  <rdf:RDF xmlns:cc=\"http://creativecommons.org/ns#\" xmlns:dc=\"http://purl.org/dc/elements/1.1/\" xmlns:rdf=\"http://www.w3.org/1999/02/22-rdf-syntax-ns#\">\n   <cc:Work>\n    <dc:type rdf:resource=\"http://purl.org/dc/dcmitype/StillImage\"/>\n    <dc:date>2021-01-20T10:28:06.787905</dc:date>\n    <dc:format>image/svg+xml</dc:format>\n    <dc:creator>\n     <cc:Agent>\n      <dc:title>Matplotlib v3.3.3, https://matplotlib.org/</dc:title>\n     </cc:Agent>\n    </dc:creator>\n   </cc:Work>\n  </rdf:RDF>\n </metadata>\n <defs>\n  <style type=\"text/css\">*{stroke-linecap:butt;stroke-linejoin:round;}</style>\n </defs>\n <g id=\"figure_1\">\n  <g id=\"patch_1\">\n   <path d=\"M 0 248.518125 \nL 384.672313 248.518125 \nL 384.672313 0 \nL 0 0 \nz\n\" style=\"fill:none;\"/>\n  </g>\n  <g id=\"axes_1\">\n   <g id=\"patch_2\">\n    <path d=\"M 52.754688 224.64 \nL 320.594688 224.64 \nL 320.594688 7.2 \nL 52.754688 7.2 \nz\n\" style=\"fill:#ffffff;\"/>\n   </g>\n   <g id=\"QuadMesh_1\">\n    <path clip-path=\"url(#pd57e8ed7ad)\" d=\"M 52.754688 7.2 \nL 106.322688 7.2 \nL 106.322688 61.56 \nL 52.754688 61.56 \nL 52.754688 7.2 \n\" style=\"fill:#020202;\"/>\n    <path clip-path=\"url(#pd57e8ed7ad)\" d=\"M 106.322688 7.2 \nL 159.890688 7.2 \nL 159.890688 61.56 \nL 106.322688 61.56 \nL 106.322688 7.2 \n\" style=\"fill:#2b2b2b;\"/>\n    <path clip-path=\"url(#pd57e8ed7ad)\" d=\"M 159.890688 7.2 \nL 213.458688 7.2 \nL 213.458688 61.56 \nL 159.890688 61.56 \nL 159.890688 7.2 \n\" style=\"fill:#1e1e1e;\"/>\n    <path clip-path=\"url(#pd57e8ed7ad)\" d=\"M 213.458688 7.2 \nL 267.026688 7.2 \nL 267.026688 61.56 \nL 213.458688 61.56 \nL 213.458688 7.2 \n\" style=\"fill:#292929;\"/>\n    <path clip-path=\"url(#pd57e8ed7ad)\" d=\"M 267.026688 7.2 \nL 320.594688 7.2 \nL 320.594688 61.56 \nL 267.026688 61.56 \nL 267.026688 7.2 \n\" style=\"fill:#252525;\"/>\n    <path clip-path=\"url(#pd57e8ed7ad)\" d=\"M 52.754688 61.56 \nL 106.322688 61.56 \nL 106.322688 115.92 \nL 52.754688 115.92 \nL 52.754688 61.56 \n\" style=\"fill:#1a1a1a;\"/>\n    <path clip-path=\"url(#pd57e8ed7ad)\" d=\"M 106.322688 61.56 \nL 159.890688 61.56 \nL 159.890688 115.92 \nL 106.322688 115.92 \nL 106.322688 61.56 \n\"/>\n    <path clip-path=\"url(#pd57e8ed7ad)\" d=\"M 159.890688 61.56 \nL 213.458688 61.56 \nL 213.458688 115.92 \nL 159.890688 115.92 \nL 159.890688 61.56 \n\"/>\n    <path clip-path=\"url(#pd57e8ed7ad)\" d=\"M 213.458688 61.56 \nL 267.026688 61.56 \nL 267.026688 115.92 \nL 213.458688 115.92 \nL 213.458688 61.56 \n\" style=\"fill:#030303;\"/>\n    <path clip-path=\"url(#pd57e8ed7ad)\" d=\"M 267.026688 61.56 \nL 320.594688 61.56 \nL 320.594688 115.92 \nL 267.026688 115.92 \nL 267.026688 61.56 \n\" style=\"fill:#1f1f1f;\"/>\n    <path clip-path=\"url(#pd57e8ed7ad)\" d=\"M 52.754688 115.92 \nL 106.322688 115.92 \nL 106.322688 170.28 \nL 52.754688 170.28 \nL 52.754688 115.92 \n\" style=\"fill:#7b7b7b;\"/>\n    <path clip-path=\"url(#pd57e8ed7ad)\" d=\"M 106.322688 115.92 \nL 159.890688 115.92 \nL 159.890688 170.28 \nL 106.322688 170.28 \nL 106.322688 115.92 \n\" style=\"fill:#616161;\"/>\n    <path clip-path=\"url(#pd57e8ed7ad)\" d=\"M 159.890688 115.92 \nL 213.458688 115.92 \nL 213.458688 170.28 \nL 159.890688 170.28 \nL 159.890688 115.92 \n\" style=\"fill:#535353;\"/>\n    <path clip-path=\"url(#pd57e8ed7ad)\" d=\"M 213.458688 115.92 \nL 267.026688 115.92 \nL 267.026688 170.28 \nL 213.458688 170.28 \nL 213.458688 115.92 \n\" style=\"fill:#696969;\"/>\n    <path clip-path=\"url(#pd57e8ed7ad)\" d=\"M 267.026688 115.92 \nL 320.594688 115.92 \nL 320.594688 170.28 \nL 267.026688 170.28 \nL 267.026688 115.92 \n\" style=\"fill:#4e4e4e;\"/>\n    <path clip-path=\"url(#pd57e8ed7ad)\" d=\"M 52.754688 170.28 \nL 106.322688 170.28 \nL 106.322688 224.64 \nL 52.754688 224.64 \nL 52.754688 170.28 \n\" style=\"fill:#ffffff;\"/>\n    <path clip-path=\"url(#pd57e8ed7ad)\" d=\"M 106.322688 170.28 \nL 159.890688 170.28 \nL 159.890688 224.64 \nL 106.322688 224.64 \nL 106.322688 170.28 \n\" style=\"fill:#f9f9f9;\"/>\n    <path clip-path=\"url(#pd57e8ed7ad)\" d=\"M 159.890688 170.28 \nL 213.458688 170.28 \nL 213.458688 224.64 \nL 159.890688 224.64 \nL 159.890688 170.28 \n\" style=\"fill:#b8b8b8;\"/>\n    <path clip-path=\"url(#pd57e8ed7ad)\" d=\"M 213.458688 170.28 \nL 267.026688 170.28 \nL 267.026688 224.64 \nL 213.458688 224.64 \nL 213.458688 170.28 \n\" style=\"fill:#adadad;\"/>\n    <path clip-path=\"url(#pd57e8ed7ad)\" d=\"M 267.026688 170.28 \nL 320.594688 170.28 \nL 320.594688 224.64 \nL 267.026688 224.64 \nL 267.026688 170.28 \n\" style=\"fill:#848484;\"/>\n   </g>\n   <g id=\"matplotlib.axis_1\">\n    <g id=\"xtick_1\">\n     <g id=\"line2d_1\">\n      <defs>\n       <path d=\"M 0 0 \nL 0 3.5 \n\" id=\"m736739693c\" style=\"stroke:#000000;stroke-width:0.8;\"/>\n      </defs>\n      <g>\n       <use style=\"stroke:#000000;stroke-width:0.8;\" x=\"79.538688\" xlink:href=\"#m736739693c\" y=\"224.64\"/>\n      </g>\n     </g>\n     <g id=\"text_1\">\n      <!-- 25 -->\n      <g transform=\"translate(73.176188 239.238437)scale(0.1 -0.1)\">\n       <defs>\n        <path d=\"M 19.1875 8.296875 \nL 53.609375 8.296875 \nL 53.609375 0 \nL 7.328125 0 \nL 7.328125 8.296875 \nQ 12.9375 14.109375 22.625 23.890625 \nQ 32.328125 33.6875 34.8125 36.53125 \nQ 39.546875 41.84375 41.421875 45.53125 \nQ 43.3125 49.21875 43.3125 52.78125 \nQ 43.3125 58.59375 39.234375 62.25 \nQ 35.15625 65.921875 28.609375 65.921875 \nQ 23.96875 65.921875 18.8125 64.3125 \nQ 13.671875 62.703125 7.8125 59.421875 \nL 7.8125 69.390625 \nQ 13.765625 71.78125 18.9375 73 \nQ 24.125 74.21875 28.421875 74.21875 \nQ 39.75 74.21875 46.484375 68.546875 \nQ 53.21875 62.890625 53.21875 53.421875 \nQ 53.21875 48.921875 51.53125 44.890625 \nQ 49.859375 40.875 45.40625 35.40625 \nQ 44.1875 33.984375 37.640625 27.21875 \nQ 31.109375 20.453125 19.1875 8.296875 \nz\n\" id=\"DejaVuSans-50\"/>\n        <path d=\"M 10.796875 72.90625 \nL 49.515625 72.90625 \nL 49.515625 64.59375 \nL 19.828125 64.59375 \nL 19.828125 46.734375 \nQ 21.96875 47.46875 24.109375 47.828125 \nQ 26.265625 48.1875 28.421875 48.1875 \nQ 40.625 48.1875 47.75 41.5 \nQ 54.890625 34.8125 54.890625 23.390625 \nQ 54.890625 11.625 47.5625 5.09375 \nQ 40.234375 -1.421875 26.90625 -1.421875 \nQ 22.3125 -1.421875 17.546875 -0.640625 \nQ 12.796875 0.140625 7.71875 1.703125 \nL 7.71875 11.625 \nQ 12.109375 9.234375 16.796875 8.0625 \nQ 21.484375 6.890625 26.703125 6.890625 \nQ 35.15625 6.890625 40.078125 11.328125 \nQ 45.015625 15.765625 45.015625 23.390625 \nQ 45.015625 31 40.078125 35.4375 \nQ 35.15625 39.890625 26.703125 39.890625 \nQ 22.75 39.890625 18.8125 39.015625 \nQ 14.890625 38.140625 10.796875 36.28125 \nz\n\" id=\"DejaVuSans-53\"/>\n       </defs>\n       <use xlink:href=\"#DejaVuSans-50\"/>\n       <use x=\"63.623047\" xlink:href=\"#DejaVuSans-53\"/>\n      </g>\n     </g>\n    </g>\n    <g id=\"xtick_2\">\n     <g id=\"line2d_2\">\n      <g>\n       <use style=\"stroke:#000000;stroke-width:0.8;\" x=\"133.106688\" xlink:href=\"#m736739693c\" y=\"224.64\"/>\n      </g>\n     </g>\n     <g id=\"text_2\">\n      <!-- 50 -->\n      <g transform=\"translate(126.744188 239.238437)scale(0.1 -0.1)\">\n       <defs>\n        <path d=\"M 31.78125 66.40625 \nQ 24.171875 66.40625 20.328125 58.90625 \nQ 16.5 51.421875 16.5 36.375 \nQ 16.5 21.390625 20.328125 13.890625 \nQ 24.171875 6.390625 31.78125 6.390625 \nQ 39.453125 6.390625 43.28125 13.890625 \nQ 47.125 21.390625 47.125 36.375 \nQ 47.125 51.421875 43.28125 58.90625 \nQ 39.453125 66.40625 31.78125 66.40625 \nz\nM 31.78125 74.21875 \nQ 44.046875 74.21875 50.515625 64.515625 \nQ 56.984375 54.828125 56.984375 36.375 \nQ 56.984375 17.96875 50.515625 8.265625 \nQ 44.046875 -1.421875 31.78125 -1.421875 \nQ 19.53125 -1.421875 13.0625 8.265625 \nQ 6.59375 17.96875 6.59375 36.375 \nQ 6.59375 54.828125 13.0625 64.515625 \nQ 19.53125 74.21875 31.78125 74.21875 \nz\n\" id=\"DejaVuSans-48\"/>\n       </defs>\n       <use xlink:href=\"#DejaVuSans-53\"/>\n       <use x=\"63.623047\" xlink:href=\"#DejaVuSans-48\"/>\n      </g>\n     </g>\n    </g>\n    <g id=\"xtick_3\">\n     <g id=\"line2d_3\">\n      <g>\n       <use style=\"stroke:#000000;stroke-width:0.8;\" x=\"186.674688\" xlink:href=\"#m736739693c\" y=\"224.64\"/>\n      </g>\n     </g>\n     <g id=\"text_3\">\n      <!-- 80 -->\n      <g transform=\"translate(180.312187 239.238437)scale(0.1 -0.1)\">\n       <defs>\n        <path d=\"M 31.78125 34.625 \nQ 24.75 34.625 20.71875 30.859375 \nQ 16.703125 27.09375 16.703125 20.515625 \nQ 16.703125 13.921875 20.71875 10.15625 \nQ 24.75 6.390625 31.78125 6.390625 \nQ 38.8125 6.390625 42.859375 10.171875 \nQ 46.921875 13.96875 46.921875 20.515625 \nQ 46.921875 27.09375 42.890625 30.859375 \nQ 38.875 34.625 31.78125 34.625 \nz\nM 21.921875 38.8125 \nQ 15.578125 40.375 12.03125 44.71875 \nQ 8.5 49.078125 8.5 55.328125 \nQ 8.5 64.0625 14.71875 69.140625 \nQ 20.953125 74.21875 31.78125 74.21875 \nQ 42.671875 74.21875 48.875 69.140625 \nQ 55.078125 64.0625 55.078125 55.328125 \nQ 55.078125 49.078125 51.53125 44.71875 \nQ 48 40.375 41.703125 38.8125 \nQ 48.828125 37.15625 52.796875 32.3125 \nQ 56.78125 27.484375 56.78125 20.515625 \nQ 56.78125 9.90625 50.3125 4.234375 \nQ 43.84375 -1.421875 31.78125 -1.421875 \nQ 19.734375 -1.421875 13.25 4.234375 \nQ 6.78125 9.90625 6.78125 20.515625 \nQ 6.78125 27.484375 10.78125 32.3125 \nQ 14.796875 37.15625 21.921875 38.8125 \nz\nM 18.3125 54.390625 \nQ 18.3125 48.734375 21.84375 45.5625 \nQ 25.390625 42.390625 31.78125 42.390625 \nQ 38.140625 42.390625 41.71875 45.5625 \nQ 45.3125 48.734375 45.3125 54.390625 \nQ 45.3125 60.0625 41.71875 63.234375 \nQ 38.140625 66.40625 31.78125 66.40625 \nQ 25.390625 66.40625 21.84375 63.234375 \nQ 18.3125 60.0625 18.3125 54.390625 \nz\n\" id=\"DejaVuSans-56\"/>\n       </defs>\n       <use xlink:href=\"#DejaVuSans-56\"/>\n       <use x=\"63.623047\" xlink:href=\"#DejaVuSans-48\"/>\n      </g>\n     </g>\n    </g>\n    <g id=\"xtick_4\">\n     <g id=\"line2d_4\">\n      <g>\n       <use style=\"stroke:#000000;stroke-width:0.8;\" x=\"240.242688\" xlink:href=\"#m736739693c\" y=\"224.64\"/>\n      </g>\n     </g>\n     <g id=\"text_4\">\n      <!-- 100 -->\n      <g transform=\"translate(230.698938 239.238437)scale(0.1 -0.1)\">\n       <defs>\n        <path d=\"M 12.40625 8.296875 \nL 28.515625 8.296875 \nL 28.515625 63.921875 \nL 10.984375 60.40625 \nL 10.984375 69.390625 \nL 28.421875 72.90625 \nL 38.28125 72.90625 \nL 38.28125 8.296875 \nL 54.390625 8.296875 \nL 54.390625 0 \nL 12.40625 0 \nz\n\" id=\"DejaVuSans-49\"/>\n       </defs>\n       <use xlink:href=\"#DejaVuSans-49\"/>\n       <use x=\"63.623047\" xlink:href=\"#DejaVuSans-48\"/>\n       <use x=\"127.246094\" xlink:href=\"#DejaVuSans-48\"/>\n      </g>\n     </g>\n    </g>\n    <g id=\"xtick_5\">\n     <g id=\"line2d_5\">\n      <g>\n       <use style=\"stroke:#000000;stroke-width:0.8;\" x=\"293.810688\" xlink:href=\"#m736739693c\" y=\"224.64\"/>\n      </g>\n     </g>\n     <g id=\"text_5\">\n      <!-- 150 -->\n      <g transform=\"translate(284.266938 239.238437)scale(0.1 -0.1)\">\n       <use xlink:href=\"#DejaVuSans-49\"/>\n       <use x=\"63.623047\" xlink:href=\"#DejaVuSans-53\"/>\n       <use x=\"127.246094\" xlink:href=\"#DejaVuSans-48\"/>\n      </g>\n     </g>\n    </g>\n   </g>\n   <g id=\"matplotlib.axis_2\">\n    <g id=\"ytick_1\">\n     <g id=\"line2d_6\">\n      <defs>\n       <path d=\"M 0 0 \nL -3.5 0 \n\" id=\"mdcae9c42dc\" style=\"stroke:#000000;stroke-width:0.8;\"/>\n      </defs>\n      <g>\n       <use style=\"stroke:#000000;stroke-width:0.8;\" x=\"52.754688\" xlink:href=\"#mdcae9c42dc\" y=\"34.38\"/>\n      </g>\n     </g>\n     <g id=\"text_6\">\n      <!-- 2.0E-02 -->\n      <g transform=\"translate(7.2 38.179219)scale(0.1 -0.1)\">\n       <defs>\n        <path d=\"M 10.6875 12.40625 \nL 21 12.40625 \nL 21 0 \nL 10.6875 0 \nz\n\" id=\"DejaVuSans-46\"/>\n        <path d=\"M 9.8125 72.90625 \nL 55.90625 72.90625 \nL 55.90625 64.59375 \nL 19.671875 64.59375 \nL 19.671875 43.015625 \nL 54.390625 43.015625 \nL 54.390625 34.71875 \nL 19.671875 34.71875 \nL 19.671875 8.296875 \nL 56.78125 8.296875 \nL 56.78125 0 \nL 9.8125 0 \nz\n\" id=\"DejaVuSans-69\"/>\n        <path d=\"M 4.890625 31.390625 \nL 31.203125 31.390625 \nL 31.203125 23.390625 \nL 4.890625 23.390625 \nz\n\" id=\"DejaVuSans-45\"/>\n       </defs>\n       <use xlink:href=\"#DejaVuSans-50\"/>\n       <use x=\"63.623047\" xlink:href=\"#DejaVuSans-46\"/>\n       <use x=\"95.410156\" xlink:href=\"#DejaVuSans-48\"/>\n       <use x=\"159.033203\" xlink:href=\"#DejaVuSans-69\"/>\n       <use x=\"222.216797\" xlink:href=\"#DejaVuSans-45\"/>\n       <use x=\"258.300781\" xlink:href=\"#DejaVuSans-48\"/>\n       <use x=\"321.923828\" xlink:href=\"#DejaVuSans-50\"/>\n      </g>\n     </g>\n    </g>\n    <g id=\"ytick_2\">\n     <g id=\"line2d_7\">\n      <g>\n       <use style=\"stroke:#000000;stroke-width:0.8;\" x=\"52.754688\" xlink:href=\"#mdcae9c42dc\" y=\"88.74\"/>\n      </g>\n     </g>\n     <g id=\"text_7\">\n      <!-- 1.0E-02 -->\n      <g transform=\"translate(7.2 92.539219)scale(0.1 -0.1)\">\n       <use xlink:href=\"#DejaVuSans-49\"/>\n       <use x=\"63.623047\" xlink:href=\"#DejaVuSans-46\"/>\n       <use x=\"95.410156\" xlink:href=\"#DejaVuSans-48\"/>\n       <use x=\"159.033203\" xlink:href=\"#DejaVuSans-69\"/>\n       <use x=\"222.216797\" xlink:href=\"#DejaVuSans-45\"/>\n       <use x=\"258.300781\" xlink:href=\"#DejaVuSans-48\"/>\n       <use x=\"321.923828\" xlink:href=\"#DejaVuSans-50\"/>\n      </g>\n     </g>\n    </g>\n    <g id=\"ytick_3\">\n     <g id=\"line2d_8\">\n      <g>\n       <use style=\"stroke:#000000;stroke-width:0.8;\" x=\"52.754688\" xlink:href=\"#mdcae9c42dc\" y=\"143.1\"/>\n      </g>\n     </g>\n     <g id=\"text_8\">\n      <!-- 1.0E-03 -->\n      <g transform=\"translate(7.2 146.899219)scale(0.1 -0.1)\">\n       <defs>\n        <path d=\"M 40.578125 39.3125 \nQ 47.65625 37.796875 51.625 33 \nQ 55.609375 28.21875 55.609375 21.1875 \nQ 55.609375 10.40625 48.1875 4.484375 \nQ 40.765625 -1.421875 27.09375 -1.421875 \nQ 22.515625 -1.421875 17.65625 -0.515625 \nQ 12.796875 0.390625 7.625 2.203125 \nL 7.625 11.71875 \nQ 11.71875 9.328125 16.59375 8.109375 \nQ 21.484375 6.890625 26.8125 6.890625 \nQ 36.078125 6.890625 40.9375 10.546875 \nQ 45.796875 14.203125 45.796875 21.1875 \nQ 45.796875 27.640625 41.28125 31.265625 \nQ 36.765625 34.90625 28.71875 34.90625 \nL 20.21875 34.90625 \nL 20.21875 43.015625 \nL 29.109375 43.015625 \nQ 36.375 43.015625 40.234375 45.921875 \nQ 44.09375 48.828125 44.09375 54.296875 \nQ 44.09375 59.90625 40.109375 62.90625 \nQ 36.140625 65.921875 28.71875 65.921875 \nQ 24.65625 65.921875 20.015625 65.03125 \nQ 15.375 64.15625 9.8125 62.3125 \nL 9.8125 71.09375 \nQ 15.4375 72.65625 20.34375 73.4375 \nQ 25.25 74.21875 29.59375 74.21875 \nQ 40.828125 74.21875 47.359375 69.109375 \nQ 53.90625 64.015625 53.90625 55.328125 \nQ 53.90625 49.265625 50.4375 45.09375 \nQ 46.96875 40.921875 40.578125 39.3125 \nz\n\" id=\"DejaVuSans-51\"/>\n       </defs>\n       <use xlink:href=\"#DejaVuSans-49\"/>\n       <use x=\"63.623047\" xlink:href=\"#DejaVuSans-46\"/>\n       <use x=\"95.410156\" xlink:href=\"#DejaVuSans-48\"/>\n       <use x=\"159.033203\" xlink:href=\"#DejaVuSans-69\"/>\n       <use x=\"222.216797\" xlink:href=\"#DejaVuSans-45\"/>\n       <use x=\"258.300781\" xlink:href=\"#DejaVuSans-48\"/>\n       <use x=\"321.923828\" xlink:href=\"#DejaVuSans-51\"/>\n      </g>\n     </g>\n    </g>\n    <g id=\"ytick_4\">\n     <g id=\"line2d_9\">\n      <g>\n       <use style=\"stroke:#000000;stroke-width:0.8;\" x=\"52.754688\" xlink:href=\"#mdcae9c42dc\" y=\"197.46\"/>\n      </g>\n     </g>\n     <g id=\"text_9\">\n      <!-- 1.0E-04 -->\n      <g transform=\"translate(7.2 201.259219)scale(0.1 -0.1)\">\n       <defs>\n        <path d=\"M 37.796875 64.3125 \nL 12.890625 25.390625 \nL 37.796875 25.390625 \nz\nM 35.203125 72.90625 \nL 47.609375 72.90625 \nL 47.609375 25.390625 \nL 58.015625 25.390625 \nL 58.015625 17.1875 \nL 47.609375 17.1875 \nL 47.609375 0 \nL 37.796875 0 \nL 37.796875 17.1875 \nL 4.890625 17.1875 \nL 4.890625 26.703125 \nz\n\" id=\"DejaVuSans-52\"/>\n       </defs>\n       <use xlink:href=\"#DejaVuSans-49\"/>\n       <use x=\"63.623047\" xlink:href=\"#DejaVuSans-46\"/>\n       <use x=\"95.410156\" xlink:href=\"#DejaVuSans-48\"/>\n       <use x=\"159.033203\" xlink:href=\"#DejaVuSans-69\"/>\n       <use x=\"222.216797\" xlink:href=\"#DejaVuSans-45\"/>\n       <use x=\"258.300781\" xlink:href=\"#DejaVuSans-48\"/>\n       <use x=\"321.923828\" xlink:href=\"#DejaVuSans-52\"/>\n      </g>\n     </g>\n    </g>\n   </g>\n  </g>\n  <g id=\"axes_2\">\n   <g id=\"patch_3\">\n    <path clip-path=\"url(#p21ece37731)\" d=\"M 337.334688 224.64 \nL 337.334688 223.790625 \nL 337.334688 8.049375 \nL 337.334688 7.2 \nL 348.206688 7.2 \nL 348.206688 8.049375 \nL 348.206688 223.790625 \nL 348.206688 224.64 \nz\n\" style=\"fill:#ffffff;stroke:#ffffff;stroke-linejoin:miter;stroke-width:0.01;\"/>\n   </g>\n   <image height=\"217\" id=\"image9d3225a09e\" transform=\"scale(1 -1)translate(0 -217)\" width=\"11\" x=\"337\" xlink:href=\"data:image/png;base64,\niVBORw0KGgoAAAANSUhEUgAAAAsAAADZCAYAAAD2WsoCAAAAuElEQVR4nO2WSw6AMAhEpfX+V9Yt7ooJ5EGG9WQyH4qamT3X4dxmdooNgtdaSeA8zXkGIcySUcMMkQExGALvvQkyIKVArmgec17dSsODIacgZLBjgx1lQAwqjRoZELDS8OCOaeh1/waP/7SN1wz5r+sIHr/84+uGXH5I3eN3A1J3x91Iq/vcXZR5fCmJ0TEMUqKbnobAH3Ckbsj5gpwCpVEkoyFYafjpmEae5o7MEBlirmGGyJBBPy+VWgcy94npzQAAAABJRU5ErkJggg==\" y=\"-7\"/>\n   <g id=\"matplotlib.axis_3\"/>\n   <g id=\"matplotlib.axis_4\">\n    <g id=\"ytick_5\">\n     <g id=\"line2d_10\">\n      <defs>\n       <path d=\"M 0 0 \nL 3.5 0 \n\" id=\"m7b99bec5dc\" style=\"stroke:#000000;stroke-width:0.8;\"/>\n      </defs>\n      <g>\n       <use style=\"stroke:#000000;stroke-width:0.8;\" x=\"348.206688\" xlink:href=\"#m7b99bec5dc\" y=\"204.862289\"/>\n      </g>\n     </g>\n     <g id=\"text_10\">\n      <!-- 3.05 -->\n      <g transform=\"translate(355.206688 208.661508)scale(0.1 -0.1)\">\n       <use xlink:href=\"#DejaVuSans-51\"/>\n       <use x=\"63.623047\" xlink:href=\"#DejaVuSans-46\"/>\n       <use x=\"95.410156\" xlink:href=\"#DejaVuSans-48\"/>\n       <use x=\"159.033203\" xlink:href=\"#DejaVuSans-53\"/>\n      </g>\n     </g>\n    </g>\n    <g id=\"ytick_6\">\n     <g id=\"line2d_11\">\n      <g>\n       <use style=\"stroke:#000000;stroke-width:0.8;\" x=\"348.206688\" xlink:href=\"#m7b99bec5dc\" y=\"178.620121\"/>\n      </g>\n     </g>\n     <g id=\"text_11\">\n      <!-- 3.10 -->\n      <g transform=\"translate(355.206688 182.41934)scale(0.1 -0.1)\">\n       <use xlink:href=\"#DejaVuSans-51\"/>\n       <use x=\"63.623047\" xlink:href=\"#DejaVuSans-46\"/>\n       <use x=\"95.410156\" xlink:href=\"#DejaVuSans-49\"/>\n       <use x=\"159.033203\" xlink:href=\"#DejaVuSans-48\"/>\n      </g>\n     </g>\n    </g>\n    <g id=\"ytick_7\">\n     <g id=\"line2d_12\">\n      <g>\n       <use style=\"stroke:#000000;stroke-width:0.8;\" x=\"348.206688\" xlink:href=\"#m7b99bec5dc\" y=\"152.377953\"/>\n      </g>\n     </g>\n     <g id=\"text_12\">\n      <!-- 3.15 -->\n      <g transform=\"translate(355.206688 156.177171)scale(0.1 -0.1)\">\n       <use xlink:href=\"#DejaVuSans-51\"/>\n       <use x=\"63.623047\" xlink:href=\"#DejaVuSans-46\"/>\n       <use x=\"95.410156\" xlink:href=\"#DejaVuSans-49\"/>\n       <use x=\"159.033203\" xlink:href=\"#DejaVuSans-53\"/>\n      </g>\n     </g>\n    </g>\n    <g id=\"ytick_8\">\n     <g id=\"line2d_13\">\n      <g>\n       <use style=\"stroke:#000000;stroke-width:0.8;\" x=\"348.206688\" xlink:href=\"#m7b99bec5dc\" y=\"126.135784\"/>\n      </g>\n     </g>\n     <g id=\"text_13\">\n      <!-- 3.20 -->\n      <g transform=\"translate(355.206688 129.935003)scale(0.1 -0.1)\">\n       <use xlink:href=\"#DejaVuSans-51\"/>\n       <use x=\"63.623047\" xlink:href=\"#DejaVuSans-46\"/>\n       <use x=\"95.410156\" xlink:href=\"#DejaVuSans-50\"/>\n       <use x=\"159.033203\" xlink:href=\"#DejaVuSans-48\"/>\n      </g>\n     </g>\n    </g>\n    <g id=\"ytick_9\">\n     <g id=\"line2d_14\">\n      <g>\n       <use style=\"stroke:#000000;stroke-width:0.8;\" x=\"348.206688\" xlink:href=\"#m7b99bec5dc\" y=\"99.893616\"/>\n      </g>\n     </g>\n     <g id=\"text_14\">\n      <!-- 3.25 -->\n      <g transform=\"translate(355.206688 103.692835)scale(0.1 -0.1)\">\n       <use xlink:href=\"#DejaVuSans-51\"/>\n       <use x=\"63.623047\" xlink:href=\"#DejaVuSans-46\"/>\n       <use x=\"95.410156\" xlink:href=\"#DejaVuSans-50\"/>\n       <use x=\"159.033203\" xlink:href=\"#DejaVuSans-53\"/>\n      </g>\n     </g>\n    </g>\n    <g id=\"ytick_10\">\n     <g id=\"line2d_15\">\n      <g>\n       <use style=\"stroke:#000000;stroke-width:0.8;\" x=\"348.206688\" xlink:href=\"#m7b99bec5dc\" y=\"73.651448\"/>\n      </g>\n     </g>\n     <g id=\"text_15\">\n      <!-- 3.30 -->\n      <g transform=\"translate(355.206688 77.450666)scale(0.1 -0.1)\">\n       <use xlink:href=\"#DejaVuSans-51\"/>\n       <use x=\"63.623047\" xlink:href=\"#DejaVuSans-46\"/>\n       <use x=\"95.410156\" xlink:href=\"#DejaVuSans-51\"/>\n       <use x=\"159.033203\" xlink:href=\"#DejaVuSans-48\"/>\n      </g>\n     </g>\n    </g>\n    <g id=\"ytick_11\">\n     <g id=\"line2d_16\">\n      <g>\n       <use style=\"stroke:#000000;stroke-width:0.8;\" x=\"348.206688\" xlink:href=\"#m7b99bec5dc\" y=\"47.409279\"/>\n      </g>\n     </g>\n     <g id=\"text_16\">\n      <!-- 3.35 -->\n      <g transform=\"translate(355.206688 51.208498)scale(0.1 -0.1)\">\n       <use xlink:href=\"#DejaVuSans-51\"/>\n       <use x=\"63.623047\" xlink:href=\"#DejaVuSans-46\"/>\n       <use x=\"95.410156\" xlink:href=\"#DejaVuSans-51\"/>\n       <use x=\"159.033203\" xlink:href=\"#DejaVuSans-53\"/>\n      </g>\n     </g>\n    </g>\n    <g id=\"ytick_12\">\n     <g id=\"line2d_17\">\n      <g>\n       <use style=\"stroke:#000000;stroke-width:0.8;\" x=\"348.206688\" xlink:href=\"#m7b99bec5dc\" y=\"21.167111\"/>\n      </g>\n     </g>\n     <g id=\"text_17\">\n      <!-- 3.40 -->\n      <g transform=\"translate(355.206688 24.96633)scale(0.1 -0.1)\">\n       <use xlink:href=\"#DejaVuSans-51\"/>\n       <use x=\"63.623047\" xlink:href=\"#DejaVuSans-46\"/>\n       <use x=\"95.410156\" xlink:href=\"#DejaVuSans-52\"/>\n       <use x=\"159.033203\" xlink:href=\"#DejaVuSans-48\"/>\n      </g>\n     </g>\n    </g>\n   </g>\n   <g id=\"patch_4\">\n    <path d=\"M 337.334688 224.64 \nL 337.334688 223.790625 \nL 337.334688 8.049375 \nL 337.334688 7.2 \nL 348.206688 7.2 \nL 348.206688 8.049375 \nL 348.206688 223.790625 \nL 348.206688 224.64 \nz\n\" style=\"fill:none;\"/>\n   </g>\n  </g>\n </g>\n <defs>\n  <clipPath id=\"pd57e8ed7ad\">\n   <rect height=\"217.44\" width=\"267.84\" x=\"52.754688\" y=\"7.2\"/>\n  </clipPath>\n  <clipPath id=\"p21ece37731\">\n   <rect height=\"217.44\" width=\"10.872\" x=\"337.334688\" y=\"7.2\"/>\n  </clipPath>\n </defs>\n</svg>\n",
      "image/png": "[encoded data removed]"
     },
     "metadata": {
      "needs_background": "light"
     }
    }
   ],
   "source": [
    "xticklabels = n_hidden[col_order]\n",
    "yticklabels = ['2.0E-02', '1.0E-02', '1.0E-03', '1.0E-04']\n",
    "sns.heatmap(df2.to_numpy(), xticklabels=xticklabels,yticklabels=yticklabels,cmap='Greys_r')\n",
    "plt.yticks(rotation=0)\n",
    "' '"
   ]
  }
 ]
}