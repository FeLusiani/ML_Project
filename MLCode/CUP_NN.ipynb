{
 "metadata": {
  "language_info": {
   "codemirror_mode": {
    "name": "ipython",
    "version": 3
   },
   "file_extension": ".py",
   "mimetype": "text/x-python",
   "name": "python",
   "nbconvert_exporter": "python",
   "pygments_lexer": "ipython3",
   "version": "3.8.5-final"
  },
  "orig_nbformat": 2,
  "kernelspec": {
   "name": "python38564bitenvebf356ef5c6e4636ae253ce9e48c7e00",
   "display_name": "Python 3.8.5 64-bit ('env')",
   "language": "python"
  }
 },
 "nbformat": 4,
 "nbformat_minor": 2,
 "cells": [
  {
   "cell_type": "code",
   "execution_count": 1,
   "metadata": {},
   "outputs": [],
   "source": [
    "import numpy as np\n",
    "from torch import Tensor\n",
    "from sklearn.model_selection import KFold\n",
    "from MLCode.utils import load_cup_data, np_cup_TR, plot_NN_TR_VAL\n",
    "from sklearn.preprocessing import StandardScaler\n",
    "from MLCode.NN import NN_HyperParameters\n",
    "from MLCode.NN_cup import NN_Regressor, train_NN_cup, save_training\n",
    "\n",
    "\n",
    "import matplotlib.pyplot as plt\n",
    "\n",
    "df = load_cup_data()\n",
    "X, Y = np_cup_TR(df)\n",
    "Y_scaler = StandardScaler()\n",
    "Y_scaler.fit(Y)\n",
    "X, Y = Tensor(X), Tensor(Y)\n",
    "\n",
    "# 10% test set\n",
    "test_samples = X.shape[0] // 10\n",
    "\n",
    "X_dev = X[:-test_samples]\n",
    "Y_dev = Y[:-test_samples]\n",
    "\n",
    "X_test = X[-test_samples:]\n",
    "Y_test = Y[-test_samples:]\n",
    "\n",
    "# 20% validation\n",
    "val_samples = X_dev.shape[0] // 5\n",
    "X_train = X_dev[:-val_samples]\n",
    "Y_train = Y_dev[:-val_samples]\n",
    "\n",
    "X_val = X_dev[-val_samples:]\n",
    "Y_val = Y_dev[-val_samples:]\n",
    "\n",
    "# train with K-fold cross-validation\n",
    "def train_NN_K_validation(model, k_folds:int, X_dev, Y_dev, iters:int=None):\n",
    "    \"\"\"Train NN with k-fold cross-validation. If `iters` is set,\n",
    "    instead of using all the folds, it will reach a number of `iters`\n",
    "    training iterations.\n",
    "\n",
    "    Returns `(MEE_mean, MEE_var, seconds, converged:Bool)`\n",
    "    \"\"\"\n",
    "    kf = KFold(k_folds)\n",
    "    val_errors = []\n",
    "    seconds = 0\n",
    "    converged = True\n",
    "    for train_index, val_index in kf.split(X_dev):\n",
    "        X_train, Y_train = X_dev[train_index], Y_dev[train_index]\n",
    "        X_val, Y_val = X_dev[val_index], Y_dev[val_index]\n",
    "        stats = train_NN_cup(net, X_train, Y_train, X_val, Y_val, 15,200,False)\n",
    "        MEE, sec, conv = stats\n",
    "        val_errors.append(MEE)\n",
    "        seconds += sec\n",
    "        converged = converged and conv\n",
    "        if iters:\n",
    "            iters -= 1\n",
    "            if iters == 0: break\n",
    "\n",
    "    val_errors = np.array(val_errors)\n",
    "    MEE_mean = np.mean(val_errors)\n",
    "    MEE_var = np.var(val_errors)\n",
    "    return MEE_mean, MEE_var, seconds, converged\n"
   ]
  },
  {
   "cell_type": "code",
   "execution_count": 66,
   "metadata": {
    "tags": []
   },
   "outputs": [
    {
     "output_type": "stream",
     "name": "stdout",
     "text": [
      "layers = [ 10, 2000, 2000,]\nlr = 0.0001\nbeta1 = 0.9\nbeta2 = 0.999\nweight_decay = 0\nmb_size = 32\n\nVal error achieved: 2.1349435251324977\n measured with variance: 0.460976141926033\nTime (seconds): 378.5922475770001\nConvergence: True\n"
     ]
    }
   ],
   "source": [
    "NN_HP = NN_HyperParameters(\n",
    "    [10, 2000, 2000],\n",
    "    lr=0.0001,\n",
    "    beta1=0.9,\n",
    "    beta2=0.999,\n",
    "    weight_decay=0,\n",
    "    mb_size=32,\n",
    ")\n",
    "net = NN_Regressor(2,NN_HP, Y_scaler)\n",
    "\n",
    "\n",
    "# stats = train_NN_cup(net, X_train, Y_train, X_val, Y_val, 15,100,False)\n",
    "stats = train_NN_K_validation(net, 5, X_dev, Y_dev, 3)\n",
    "save_training(stats, NN_HP)"
   ]
  },
  {
   "cell_type": "code",
   "execution_count": 67,
   "metadata": {},
   "outputs": [
    {
     "output_type": "execute_result",
     "data": {
      "text/plain": [
       "           model_name  MEE_mean   MEE_var\n",
       "24    500x500_1.0E-03  2.049151  0.452595\n",
       "8   2000x2000_1.0E-03  2.073856  0.411696\n",
       "18  2000x2000_1.0E-04  2.134944  0.460976\n",
       "2   1000x1000_1.0E-03  2.182690  0.452786\n",
       "15    200x200_1.0E-03  2.304236  0.268996\n",
       "0     100x100_1.0E-03  2.560523  0.163153\n",
       "20    200x200_1.0E-02  2.570066  0.054201\n",
       "23    100x100_1.0E-02  2.589604  0.063337\n",
       "27       3000_1.0E-03  2.630994  0.074615\n",
       "1       50x50_1.0E-02  2.637516  0.048715\n",
       "22       2000_1.0E-03  2.695974  0.037365\n",
       "6        1000_1.0E-03  2.754499  0.026897\n",
       "12        500_1.0E-03  2.754745  0.038701\n",
       "28      50x50_1.0E-03  2.763295  0.063974\n",
       "11       5000_1.0E-03  2.768346  0.028707\n",
       "17        200_1.0E-03  2.801933  0.017632\n",
       "19      25x25_1.0E-03  2.808377  0.014096\n",
       "9   1000x1000_1.0E-02  2.810908  0.014931\n",
       "14        500_1.0E-02  2.819112  0.006206\n",
       "16      25x25_1.0E-02  2.830919  0.016815\n",
       "25    500x500_1.0E-02  2.834302  0.012141\n",
       "10       1000_1.0E-02  2.835825  0.005238\n",
       "26        100_1.0E-02  2.867055  0.010381\n",
       "4        2000_1.0E-02  2.876028  0.003345\n",
       "21        200_1.0E-02  2.891533  0.008282\n",
       "13       3000_1.0E-02  2.910878  0.010517\n",
       "3         100_1.0E-03  2.943337  0.013535\n",
       "7   2000x2000_1.0E-02  2.983191  0.003625\n",
       "5        5000_1.0E-02  3.068236  0.022037"
      ],
      "text/html": "<div>\n<style scoped>\n    .dataframe tbody tr th:only-of-type {\n        vertical-align: middle;\n    }\n\n    .dataframe tbody tr th {\n        vertical-align: top;\n    }\n\n    .dataframe thead th {\n        text-align: right;\n    }\n</style>\n<table border=\"1\" class=\"dataframe\">\n  <thead>\n    <tr style=\"text-align: right;\">\n      <th></th>\n      <th>model_name</th>\n      <th>MEE_mean</th>\n      <th>MEE_var</th>\n    </tr>\n  </thead>\n  <tbody>\n    <tr>\n      <th>24</th>\n      <td>500x500_1.0E-03</td>\n      <td>2.049151</td>\n      <td>0.452595</td>\n    </tr>\n    <tr>\n      <th>8</th>\n      <td>2000x2000_1.0E-03</td>\n      <td>2.073856</td>\n      <td>0.411696</td>\n    </tr>\n    <tr>\n      <th>18</th>\n      <td>2000x2000_1.0E-04</td>\n      <td>2.134944</td>\n      <td>0.460976</td>\n    </tr>\n    <tr>\n      <th>2</th>\n      <td>1000x1000_1.0E-03</td>\n      <td>2.182690</td>\n      <td>0.452786</td>\n    </tr>\n    <tr>\n      <th>15</th>\n      <td>200x200_1.0E-03</td>\n      <td>2.304236</td>\n      <td>0.268996</td>\n    </tr>\n    <tr>\n      <th>0</th>\n      <td>100x100_1.0E-03</td>\n      <td>2.560523</td>\n      <td>0.163153</td>\n    </tr>\n    <tr>\n      <th>20</th>\n      <td>200x200_1.0E-02</td>\n      <td>2.570066</td>\n      <td>0.054201</td>\n    </tr>\n    <tr>\n      <th>23</th>\n      <td>100x100_1.0E-02</td>\n      <td>2.589604</td>\n      <td>0.063337</td>\n    </tr>\n    <tr>\n      <th>27</th>\n      <td>3000_1.0E-03</td>\n      <td>2.630994</td>\n      <td>0.074615</td>\n    </tr>\n    <tr>\n      <th>1</th>\n      <td>50x50_1.0E-02</td>\n      <td>2.637516</td>\n      <td>0.048715</td>\n    </tr>\n    <tr>\n      <th>22</th>\n      <td>2000_1.0E-03</td>\n      <td>2.695974</td>\n      <td>0.037365</td>\n    </tr>\n    <tr>\n      <th>6</th>\n      <td>1000_1.0E-03</td>\n      <td>2.754499</td>\n      <td>0.026897</td>\n    </tr>\n    <tr>\n      <th>12</th>\n      <td>500_1.0E-03</td>\n      <td>2.754745</td>\n      <td>0.038701</td>\n    </tr>\n    <tr>\n      <th>28</th>\n      <td>50x50_1.0E-03</td>\n      <td>2.763295</td>\n      <td>0.063974</td>\n    </tr>\n    <tr>\n      <th>11</th>\n      <td>5000_1.0E-03</td>\n      <td>2.768346</td>\n      <td>0.028707</td>\n    </tr>\n    <tr>\n      <th>17</th>\n      <td>200_1.0E-03</td>\n      <td>2.801933</td>\n      <td>0.017632</td>\n    </tr>\n    <tr>\n      <th>19</th>\n      <td>25x25_1.0E-03</td>\n      <td>2.808377</td>\n      <td>0.014096</td>\n    </tr>\n    <tr>\n      <th>9</th>\n      <td>1000x1000_1.0E-02</td>\n      <td>2.810908</td>\n      <td>0.014931</td>\n    </tr>\n    <tr>\n      <th>14</th>\n      <td>500_1.0E-02</td>\n      <td>2.819112</td>\n      <td>0.006206</td>\n    </tr>\n    <tr>\n      <th>16</th>\n      <td>25x25_1.0E-02</td>\n      <td>2.830919</td>\n      <td>0.016815</td>\n    </tr>\n    <tr>\n      <th>25</th>\n      <td>500x500_1.0E-02</td>\n      <td>2.834302</td>\n      <td>0.012141</td>\n    </tr>\n    <tr>\n      <th>10</th>\n      <td>1000_1.0E-02</td>\n      <td>2.835825</td>\n      <td>0.005238</td>\n    </tr>\n    <tr>\n      <th>26</th>\n      <td>100_1.0E-02</td>\n      <td>2.867055</td>\n      <td>0.010381</td>\n    </tr>\n    <tr>\n      <th>4</th>\n      <td>2000_1.0E-02</td>\n      <td>2.876028</td>\n      <td>0.003345</td>\n    </tr>\n    <tr>\n      <th>21</th>\n      <td>200_1.0E-02</td>\n      <td>2.891533</td>\n      <td>0.008282</td>\n    </tr>\n    <tr>\n      <th>13</th>\n      <td>3000_1.0E-02</td>\n      <td>2.910878</td>\n      <td>0.010517</td>\n    </tr>\n    <tr>\n      <th>3</th>\n      <td>100_1.0E-03</td>\n      <td>2.943337</td>\n      <td>0.013535</td>\n    </tr>\n    <tr>\n      <th>7</th>\n      <td>2000x2000_1.0E-02</td>\n      <td>2.983191</td>\n      <td>0.003625</td>\n    </tr>\n    <tr>\n      <th>5</th>\n      <td>5000_1.0E-02</td>\n      <td>3.068236</td>\n      <td>0.022037</td>\n    </tr>\n  </tbody>\n</table>\n</div>"
     },
     "metadata": {},
     "execution_count": 67
    }
   ],
   "source": [
    "from pathlib import Path\n",
    "from MLCode.conf import path_data\n",
    "import pandas as pd\n",
    "\n",
    "def get_model_val_err(directory: Path):\n",
    "    \"\"\"Returns validation error (mean and variance) from saved model directory.\n",
    "    \"\"\"\n",
    "    info_file = directory / Path('infos.txt')\n",
    "    info_text = info_file.read_text()\n",
    "    lines = info_text.split('\\n')\n",
    "    mean_line = [x for x in lines if x.startswith('Val error') ][0]\n",
    "    var_line = [x for x in lines if x.startswith(' measured') ][0]\n",
    "    n_char_mean = len('Val error achieved: ')\n",
    "    n_char_var = len('measured with variance: ')\n",
    "    return float(mean_line[n_char_mean:]), float(var_line[n_char_var:])\n",
    "\n",
    "def saved_NN_models():\n",
    "    \"\"\"Returns a pandas DataFrame with `model_name, MEE_mean, MEE_var`\n",
    "    for each saved NN model.\"\"\"\n",
    "\n",
    "    NN_directory = path_data / Path('NN_training')\n",
    "    models = []\n",
    "    for dir in NN_directory.iterdir():\n",
    "        val_err = get_model_val_err(dir)\n",
    "        model = (dir.name, val_err[0], val_err[1])\n",
    "        models.append(model)\n",
    "    \n",
    "    return pd.DataFrame(models, columns=['model_name', 'MEE_mean', 'MEE_var'])\n",
    "\n",
    "df = saved_NN_models()\n",
    "df.sort_values(by=['MEE_mean'])"
   ]
  },
  {
   "cell_type": "code",
   "execution_count": null,
   "metadata": {},
   "outputs": [],
   "source": []
  }
 ]
}