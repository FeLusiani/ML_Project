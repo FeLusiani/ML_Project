{
 "metadata": {
  "language_info": {
   "codemirror_mode": {
    "name": "ipython",
    "version": 3
   },
   "file_extension": ".py",
   "mimetype": "text/x-python",
   "name": "python",
   "nbconvert_exporter": "python",
   "pygments_lexer": "ipython3",
   "version": "3.6.9-final"
  },
  "orig_nbformat": 2,
  "kernelspec": {
   "name": "python3",
   "display_name": "Python 3.6.9 64-bit ('env')",
   "metadata": {
    "interpreter": {
     "hash": "d8baa42b62dae63dbbac6cb752ab7b401de3c554d90b6f9417ccdde4537a1a0f"
    }
   }
  }
 },
 "nbformat": 4,
 "nbformat_minor": 2,
 "cells": [
  {
   "cell_type": "code",
   "execution_count": 19,
   "metadata": {},
   "outputs": [],
   "source": [
    "import numpy as np\n",
    "from torch import Tensor\n",
    "from sklearn.model_selection import KFold\n",
    "from MLCode.utils import load_cup_data, np_cup_TR, plot_NN_TR_VAL\n",
    "from sklearn.preprocessing import StandardScaler\n",
    "from MLCode.NN import NN_HyperParameters\n",
    "from MLCode.NN_cup import NN_Regressor, train_NN_cup, save_training\n",
    "\n",
    "\n",
    "import matplotlib.pyplot as plt\n",
    "\n",
    "df = load_cup_data()\n",
    "X, Y = np_cup_TR(df)\n",
    "Y_scaler = StandardScaler()\n",
    "Y_scaler.fit(Y)\n",
    "X, Y = Tensor(X), Tensor(Y)\n",
    "\n",
    "# 10% test set\n",
    "test_samples = X.shape[0] // 10\n",
    "\n",
    "X_dev = X[:-test_samples]\n",
    "Y_dev = Y[:-test_samples]\n",
    "\n",
    "X_test = X[-test_samples:]\n",
    "Y_test = Y[-test_samples:]\n",
    "\n",
    "# 20% validation\n",
    "val_samples = X_dev.shape[0] // 5\n",
    "X_train = X_dev[:-val_samples]\n",
    "Y_train = Y_dev[:-val_samples]\n",
    "\n",
    "X_val = X_dev[-val_samples:]\n",
    "Y_val = Y_dev[-val_samples:]\n",
    "\n",
    "# train with K-fold cross-validation\n",
    "def train_NN_K_validation(model, k_folds:int, X_dev, Y_dev, iters:int=None):\n",
    "    \"\"\"Train NN with k-fold cross-validation. If `iters` is set,\n",
    "    instead of using all the folds, it will reach a number of `iters`\n",
    "    training iterations.\n",
    "\n",
    "    Returns `(MEE_mean, MEE_var, seconds, converged:Bool)`\n",
    "    \"\"\"\n",
    "    kf = KFold(k_folds)\n",
    "    val_errors = []\n",
    "    seconds = 0\n",
    "    converged = True\n",
    "    for train_index, val_index in kf.split(X_dev):\n",
    "        X_train, Y_train = X_dev[train_index], Y_dev[train_index]\n",
    "        X_val, Y_val = X_dev[val_index], Y_dev[val_index]\n",
    "        stats = train_NN_cup(net, X_train, Y_train, X_val, Y_val, 15,200,False)\n",
    "        MEE, sec, conv = stats\n",
    "        val_errors.append(MEE)\n",
    "        seconds += sec\n",
    "        converged = converged and conv\n",
    "        if iters:\n",
    "            iters -= 1\n",
    "            if iters == 0: break\n",
    "\n",
    "    val_errors = np.array(val_errors)\n",
    "    MEE_mean = np.mean(val_errors)\n",
    "    MEE_var = np.var(val_errors)\n",
    "    return MEE_mean, MEE_var, seconds, converged\n",
    "\n",
    "from pathlib import Path\n",
    "from MLCode.conf import path_data\n",
    "import pandas as pd\n",
    "\n",
    "def get_model_val_err(directory: Path):\n",
    "    \"\"\"Returns validation error (mean and variance) from saved model directory.\n",
    "    \"\"\"\n",
    "    info_file = directory / Path('infos.txt')\n",
    "    info_text = info_file.read_text()\n",
    "    lines = info_text.split('\\n')\n",
    "    mean_line = [x for x in lines if x.startswith('Val error') ][0]\n",
    "    var_line = [x for x in lines if x.startswith(' measured') ][0]\n",
    "    n_char_mean = len('Val error achieved: ')\n",
    "    n_char_var = len('measured with variance: ')\n",
    "    return float(mean_line[n_char_mean:]), float(var_line[n_char_var:])\n",
    "\n",
    "def saved_NN_models():\n",
    "    \"\"\"Returns a pandas DataFrame with `model_name, MEE_mean, MEE_var`\n",
    "    for each saved NN model.\"\"\"\n",
    "\n",
    "    NN_directory = path_data / Path('NN_training')\n",
    "    models = []\n",
    "    for dir in NN_directory.iterdir():\n",
    "        val_err = get_model_val_err(dir)\n",
    "        model = (dir.name, val_err[0], val_err[1])\n",
    "        models.append(model)\n",
    "    \n",
    "    return pd.DataFrame(models, columns=['model_name', 'MEE_mean', 'MEE_var'])"
   ]
  },
  {
   "cell_type": "code",
   "execution_count": 41,
   "metadata": {
    "tags": []
   },
   "outputs": [
    {
     "output_type": "stream",
     "name": "stdout",
     "text": [
      "layers = [ 10, 100, 100, 100,]\nlr = 0.0015\nbeta1 = 0.9\nbeta2 = 0.999\nweight_decay = 0\nmb_size = 32\n\nVal error achieved: 1.9611931337838784\n measured with variance: 0.5149920914470603\nTime (seconds): 63.38024250499984\nConvergence: True\n"
     ]
    }
   ],
   "source": [
    "NN_HP = NN_HyperParameters(\n",
    "    [10, 200, 200, 200],\n",
    "    lr=0.0015,\n",
    "    beta1=0.9,\n",
    "    beta2=0.999,\n",
    "    weight_decay=0,\n",
    "    mb_size=32,\n",
    ")\n",
    "net = NN_Regressor(2,NN_HP, Y_scaler)\n",
    "\n",
    "\n",
    "# stats = train_NN_cup(net, X_train, Y_train, X_val, Y_val, 15,100,False)\n",
    "stats = train_NN_K_validation(net, 5, X_dev, Y_dev)\n",
    "save_training(stats, NN_HP)"
   ]
  },
  {
   "cell_type": "code",
   "execution_count": 42,
   "metadata": {},
   "outputs": [
    {
     "output_type": "execute_result",
     "data": {
      "text/plain": [
       "        model_name  MEE_mean   MEE_var\n",
       "17  2x1200_1.0E-03  1.747238  0.584657\n",
       "21  2x1200_5.0E-04  1.821535  0.650594\n",
       "6   2x1000_1.0E-03  1.840667  0.700100\n",
       "10   2x800_5.0E-04  1.850379  0.537710\n",
       "19  2x1000_5.0E-04  1.877395  0.665915\n",
       "8   2x1500_5.0E-04  1.883832  0.652425\n",
       "18   2x800_1.5E-03  1.901263  0.460280\n",
       "11   2x800_1.0E-03  1.925140  0.617907\n",
       "7   2x2000_1.0E-03  1.931692  0.516322\n",
       "20  2x2000_1.5E-03  1.950580  0.465322\n",
       "15  2x1500_1.0E-03  1.953895  0.543577\n",
       "13   3x100_1.5E-03  1.961193  0.514992\n",
       "2    2x500_5.0E-04  1.965506  0.572182\n",
       "9    2x500_1.0E-03  1.975124  0.621113\n",
       "0   2x1000_1.5E-03  1.977597  0.577117\n",
       "5   2x1200_1.5E-03  2.008666  0.502454\n",
       "14   2x500_1.5E-03  2.030022  0.646484\n",
       "22  2x1500_1.5E-03  2.110262  0.407536\n",
       "4    3x100_1.0E-03  2.189488  0.357392\n",
       "1    2x100_1.5E-03  2.300210  0.339206\n",
       "12   3x100_5.0E-04  2.310015  0.267932\n",
       "16   2x100_1.0E-03  2.337827  0.331684\n",
       "3    2x100_5.0E-04  2.419908  0.235213"
      ],
      "text/html": "<div>\n<style scoped>\n    .dataframe tbody tr th:only-of-type {\n        vertical-align: middle;\n    }\n\n    .dataframe tbody tr th {\n        vertical-align: top;\n    }\n\n    .dataframe thead th {\n        text-align: right;\n    }\n</style>\n<table border=\"1\" class=\"dataframe\">\n  <thead>\n    <tr style=\"text-align: right;\">\n      <th></th>\n      <th>model_name</th>\n      <th>MEE_mean</th>\n      <th>MEE_var</th>\n    </tr>\n  </thead>\n  <tbody>\n    <tr>\n      <th>17</th>\n      <td>2x1200_1.0E-03</td>\n      <td>1.747238</td>\n      <td>0.584657</td>\n    </tr>\n    <tr>\n      <th>21</th>\n      <td>2x1200_5.0E-04</td>\n      <td>1.821535</td>\n      <td>0.650594</td>\n    </tr>\n    <tr>\n      <th>6</th>\n      <td>2x1000_1.0E-03</td>\n      <td>1.840667</td>\n      <td>0.700100</td>\n    </tr>\n    <tr>\n      <th>10</th>\n      <td>2x800_5.0E-04</td>\n      <td>1.850379</td>\n      <td>0.537710</td>\n    </tr>\n    <tr>\n      <th>19</th>\n      <td>2x1000_5.0E-04</td>\n      <td>1.877395</td>\n      <td>0.665915</td>\n    </tr>\n    <tr>\n      <th>8</th>\n      <td>2x1500_5.0E-04</td>\n      <td>1.883832</td>\n      <td>0.652425</td>\n    </tr>\n    <tr>\n      <th>18</th>\n      <td>2x800_1.5E-03</td>\n      <td>1.901263</td>\n      <td>0.460280</td>\n    </tr>\n    <tr>\n      <th>11</th>\n      <td>2x800_1.0E-03</td>\n      <td>1.925140</td>\n      <td>0.617907</td>\n    </tr>\n    <tr>\n      <th>7</th>\n      <td>2x2000_1.0E-03</td>\n      <td>1.931692</td>\n      <td>0.516322</td>\n    </tr>\n    <tr>\n      <th>20</th>\n      <td>2x2000_1.5E-03</td>\n      <td>1.950580</td>\n      <td>0.465322</td>\n    </tr>\n    <tr>\n      <th>15</th>\n      <td>2x1500_1.0E-03</td>\n      <td>1.953895</td>\n      <td>0.543577</td>\n    </tr>\n    <tr>\n      <th>13</th>\n      <td>3x100_1.5E-03</td>\n      <td>1.961193</td>\n      <td>0.514992</td>\n    </tr>\n    <tr>\n      <th>2</th>\n      <td>2x500_5.0E-04</td>\n      <td>1.965506</td>\n      <td>0.572182</td>\n    </tr>\n    <tr>\n      <th>9</th>\n      <td>2x500_1.0E-03</td>\n      <td>1.975124</td>\n      <td>0.621113</td>\n    </tr>\n    <tr>\n      <th>0</th>\n      <td>2x1000_1.5E-03</td>\n      <td>1.977597</td>\n      <td>0.577117</td>\n    </tr>\n    <tr>\n      <th>5</th>\n      <td>2x1200_1.5E-03</td>\n      <td>2.008666</td>\n      <td>0.502454</td>\n    </tr>\n    <tr>\n      <th>14</th>\n      <td>2x500_1.5E-03</td>\n      <td>2.030022</td>\n      <td>0.646484</td>\n    </tr>\n    <tr>\n      <th>22</th>\n      <td>2x1500_1.5E-03</td>\n      <td>2.110262</td>\n      <td>0.407536</td>\n    </tr>\n    <tr>\n      <th>4</th>\n      <td>3x100_1.0E-03</td>\n      <td>2.189488</td>\n      <td>0.357392</td>\n    </tr>\n    <tr>\n      <th>1</th>\n      <td>2x100_1.5E-03</td>\n      <td>2.300210</td>\n      <td>0.339206</td>\n    </tr>\n    <tr>\n      <th>12</th>\n      <td>3x100_5.0E-04</td>\n      <td>2.310015</td>\n      <td>0.267932</td>\n    </tr>\n    <tr>\n      <th>16</th>\n      <td>2x100_1.0E-03</td>\n      <td>2.337827</td>\n      <td>0.331684</td>\n    </tr>\n    <tr>\n      <th>3</th>\n      <td>2x100_5.0E-04</td>\n      <td>2.419908</td>\n      <td>0.235213</td>\n    </tr>\n  </tbody>\n</table>\n</div>"
     },
     "metadata": {},
     "execution_count": 42
    }
   ],
   "source": [
    "df = saved_NN_models()\n",
    "df = df.sort_values(by=['MEE_mean'])\n",
    "df\n",
    "\n",
    "\n"
   ]
  },
  {
   "cell_type": "code",
   "execution_count": null,
   "metadata": {},
   "outputs": [],
   "source": [
    "array = df['MEE_mean'].to_numpy()\n",
    "array = array.reshape(-1,4).transpose()\n",
    "pd.DataFrame(array)"
   ]
  },
  {
   "cell_type": "code",
   "execution_count": 78,
   "metadata": {},
   "outputs": [
    {
     "output_type": "execute_result",
     "data": {
      "text/plain": [
       "              0                  1            2                3  \\\n",
       "0  1000_1.0E-01  1000x1000_1.0E-01  100_1.0E-01  100x100_1.0E-01   \n",
       "1  1000_1.0E-02  1000x1000_1.0E-02  100_1.0E-02  100x100_1.0E-02   \n",
       "2  1000_1.0E-03  1000x1000_1.0E-03  100_1.0E-03  100x100_1.0E-03   \n",
       "3  1000_1.0E-04  1000x1000_1.0E-04  100_1.0E-04  100x100_1.0E-04   \n",
       "\n",
       "                   4            5                6  \n",
       "0  1500x1500_1.0E-01  500_1.0E-01  500x500_1.0E-01  \n",
       "1  1500x1500_1.0E-02  500_1.0E-02  500x500_1.0E-02  \n",
       "2  1500x1500_1.0E-03  500_1.0E-03  500x500_1.0E-03  \n",
       "3  1500x1500_1.0E-04  500_1.0E-04  500x500_1.0E-04  "
      ],
      "text/html": "<div>\n<style scoped>\n    .dataframe tbody tr th:only-of-type {\n        vertical-align: middle;\n    }\n\n    .dataframe tbody tr th {\n        vertical-align: top;\n    }\n\n    .dataframe thead th {\n        text-align: right;\n    }\n</style>\n<table border=\"1\" class=\"dataframe\">\n  <thead>\n    <tr style=\"text-align: right;\">\n      <th></th>\n      <th>0</th>\n      <th>1</th>\n      <th>2</th>\n      <th>3</th>\n      <th>4</th>\n      <th>5</th>\n      <th>6</th>\n    </tr>\n  </thead>\n  <tbody>\n    <tr>\n      <th>0</th>\n      <td>1000_1.0E-01</td>\n      <td>1000x1000_1.0E-01</td>\n      <td>100_1.0E-01</td>\n      <td>100x100_1.0E-01</td>\n      <td>1500x1500_1.0E-01</td>\n      <td>500_1.0E-01</td>\n      <td>500x500_1.0E-01</td>\n    </tr>\n    <tr>\n      <th>1</th>\n      <td>1000_1.0E-02</td>\n      <td>1000x1000_1.0E-02</td>\n      <td>100_1.0E-02</td>\n      <td>100x100_1.0E-02</td>\n      <td>1500x1500_1.0E-02</td>\n      <td>500_1.0E-02</td>\n      <td>500x500_1.0E-02</td>\n    </tr>\n    <tr>\n      <th>2</th>\n      <td>1000_1.0E-03</td>\n      <td>1000x1000_1.0E-03</td>\n      <td>100_1.0E-03</td>\n      <td>100x100_1.0E-03</td>\n      <td>1500x1500_1.0E-03</td>\n      <td>500_1.0E-03</td>\n      <td>500x500_1.0E-03</td>\n    </tr>\n    <tr>\n      <th>3</th>\n      <td>1000_1.0E-04</td>\n      <td>1000x1000_1.0E-04</td>\n      <td>100_1.0E-04</td>\n      <td>100x100_1.0E-04</td>\n      <td>1500x1500_1.0E-04</td>\n      <td>500_1.0E-04</td>\n      <td>500x500_1.0E-04</td>\n    </tr>\n  </tbody>\n</table>\n</div>"
     },
     "metadata": {},
     "execution_count": 78
    }
   ],
   "source": [
    "array = df['model_name'].to_numpy()\n",
    "array = array.reshape(-1,4).transpose()\n",
    "pd.DataFrame(array)"
   ]
  },
  {
   "cell_type": "code",
   "execution_count": null,
   "metadata": {},
   "outputs": [],
   "source": []
  }
 ]
}