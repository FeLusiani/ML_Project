{
 "metadata": {
  "language_info": {
   "codemirror_mode": {
    "name": "ipython",
    "version": 3
   },
   "file_extension": ".py",
   "mimetype": "text/x-python",
   "name": "python",
   "nbconvert_exporter": "python",
   "pygments_lexer": "ipython3",
   "version": "3.8.5-final"
  },
  "orig_nbformat": 2,
  "kernelspec": {
   "name": "python38564bitenvebf356ef5c6e4636ae253ce9e48c7e00",
   "display_name": "Python 3.8.5 64-bit ('env')",
   "language": "python"
  }
 },
 "nbformat": 4,
 "nbformat_minor": 2,
 "cells": [
  {
   "cell_type": "code",
   "execution_count": null,
   "metadata": {},
   "outputs": [],
   "source": [
    "import numpy as np\n",
    "from torch import Tensor\n",
    "from MLCode.utils import load_shuffled_cup, np_cup_TR, plot_NN_TR_VAL\n",
    "from sklearn.preprocessing import StandardScaler\n",
    "from MLCode.NN import NN_HyperParameters\n",
    "from MLCode.NN_cup import NN_Regressor, train_NN_cup, save_training, train_NN_K_validation, saved_NN_models\n",
    "import matplotlib.pyplot as plt"
   ]
  },
  {
   "cell_type": "code",
   "execution_count": null,
   "metadata": {},
   "outputs": [],
   "source": [
    "df = load_shuffled_cup()\n",
    "X_dev, Y_dev = np_cup_TR(df, test=False)\n",
    "\n",
    "Y_scaler = StandardScaler()\n",
    "Y_scaler.fit(Y_dev)\n",
    "\n",
    "X_dev, Y_dev = Tensor(X_dev), Tensor(Y_dev)\n",
    "\n",
    "# 20% validation\n",
    "val_samples = X_dev.shape[0] // 5\n",
    "X_train = X_dev[:-val_samples]\n",
    "Y_train = Y_dev[:-val_samples]\n",
    "\n",
    "X_val = X_dev[-val_samples:]\n",
    "Y_val = Y_dev[-val_samples:]\n",
    "\n"
   ]
  },
  {
   "cell_type": "code",
   "execution_count": null,
   "metadata": {
    "tags": []
   },
   "outputs": [],
   "source": [
    "NN_HP = NN_HyperParameters(\n",
    "    [10, 25, 25],\n",
    "    lr=100E-4,\n",
    "    beta1=0.9,\n",
    "    beta2=0.999,\n",
    "    weight_decay=0,\n",
    "    mb_size=32,\n",
    ")\n",
    "net = NN_Regressor(2,NN_HP, Y_scaler)\n",
    "\n",
    "\n",
    "# stats = train_NN_cup(net, X_train, Y_train, X_val, Y_val, 20,500)\n",
    "stats = train_NN_K_validation(net, 5, X_dev, Y_dev)\n",
    "save_training(stats, NN_HP)"
   ]
  },
  {
   "cell_type": "code",
   "execution_count": null,
   "metadata": {},
   "outputs": [],
   "source": [
    "df = saved_NN_models()\n",
    "df = df.sort_values(by=['MEE_mean'])\n",
    "# select on number of layers:\n",
    "df = df[df['model_name'].str.startswith('2')]\n",
    "df\n",
    "\n",
    "\n"
   ]
  },
  {
   "cell_type": "code",
   "execution_count": null,
   "metadata": {},
   "outputs": [],
   "source": [
    "import pandas as pd\n",
    "import seaborn as sns\n",
    "\n",
    "df = saved_NN_models()\n",
    "df = df.sort_values(by=['model_name'])\n",
    "# select on number of layers:\n",
    "df = df[df['model_name'].str.startswith('2')]\n",
    "\n",
    "array = df['model_name'].to_numpy()\n",
    "array = array.reshape(-1,3).transpose()\n",
    "df2 = pd.DataFrame(array)\n",
    "df2 = df2.reindex([0,2,1])\n",
    "df2 = df2[[4,6,7,1,3,5,0,2]]\n",
    "df2"
   ]
  },
  {
   "cell_type": "code",
   "execution_count": null,
   "metadata": {},
   "outputs": [],
   "source": [
    "array = df['MEE_mean'].to_numpy()\n",
    "array = array.reshape(-1,3).transpose()\n",
    "df2 = pd.DataFrame(array)\n",
    "df2 = df2.reindex([0,2,1])\n",
    "df2 = df2[[4,6,7,1,3,5,0,2]]\n",
    "df2\n",
    "# sns.heatmap(df2.to_numpy(), cmap='Greys_r')"
   ]
  },
  {
   "cell_type": "code",
   "execution_count": null,
   "metadata": {},
   "outputs": [],
   "source": [
    "sns.heatmap(df2.to_numpy(), cmap='Greys_r')"
   ]
  },
  {
   "cell_type": "code",
   "execution_count": null,
   "metadata": {},
   "outputs": [],
   "source": [
    "import pandas as pd\n",
    "import seaborn as sns\n",
    "\n",
    "df = saved_NN_models()\n",
    "df = df.sort_values(by=['model_name'])\n",
    "# select on number of layers:\n",
    "df = df[df['model_name'].str.startswith('3')]\n",
    "\n",
    "array = df['model_name'].to_numpy()\n",
    "array = array.reshape(-1,3).transpose()\n",
    "df2 = pd.DataFrame(array)\n",
    "df2 = df2.reindex([0,2,1])\n",
    "df2 = df2[[2,4,1,3,0]]\n",
    "df2"
   ]
  },
  {
   "cell_type": "code",
   "execution_count": null,
   "metadata": {},
   "outputs": [],
   "source": [
    "array = df['MEE_mean'].to_numpy()\n",
    "array = array.reshape(-1,3).transpose()\n",
    "df2 = pd.DataFrame(array)\n",
    "df2 = df2.reindex([0,2,1])\n",
    "df2 = df2[[2,4,1,3,0]]\n",
    "df2\n",
    "# sns.heatmap(df2.to_numpy(), cmap='Greys_r')"
   ]
  },
  {
   "cell_type": "code",
   "execution_count": null,
   "metadata": {},
   "outputs": [],
   "source": [
    "sns.heatmap(df2.to_numpy(), cmap='Greys_r')"
   ]
  },
  {
   "cell_type": "code",
   "execution_count": null,
   "metadata": {},
   "outputs": [],
   "source": []
  }
 ]
}